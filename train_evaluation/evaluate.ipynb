{
 "cells": [
  {
   "cell_type": "code",
   "execution_count": 1,
   "metadata": {},
   "outputs": [],
   "source": [
    "import pandas as pd\n",
    "import numpy as np\n",
    "from sklearn.model_selection import KFold\n",
    "from sklearn.linear_model import LogisticRegression as LR\n",
    "from sklearn.metrics import precision_recall_curve, roc_auc_score, precision_recall_fscore_support\n",
    "from matplotlib import pyplot as plt\n",
    "from sklearn.preprocessing import binarize\n",
    "import random"
   ]
  },
  {
   "cell_type": "code",
   "execution_count": 2,
   "metadata": {},
   "outputs": [],
   "source": [
    "import pickle\n",
    "def fmax_score(labels, predictions, beta = 1.0, pos_label = 1):\n",
    "    precision, recall, thres = precision_recall_curve(labels, predictions, pos_label)\n",
    "    thres = np.append([0],thres)\n",
    "    f1 = (1 + beta**2) * (precision * recall) / ((beta**2 * precision) + recall)\n",
    "    return np.nanmax(f1), pd.DataFrame({\"precision\":precision,\"recall\":recall,\"threshold\":thres, \"f1\": f1})"
   ]
  },
  {
   "cell_type": "code",
   "execution_count": 3,
   "metadata": {},
   "outputs": [],
   "source": [
    "## load trained models\n",
    "measure_base = pickle.load(open(\"../models/inner_lr/lr_measure_9_3.pkl\",\"rb\"))\n",
    "condition_base = pickle.load(open(\"../models/inner_lr/lr_condition_9_3.pkl\",\"rb\"))\n",
    "obs_base = pickle.load(open(\"../models/inner_lr/lr_observation_9_3.pkl\",\"rb\"))\n",
    "proc_base = pickle.load(open(\"../models/inner_lr/lr_procedure_9_3.pkl\",\"rb\"))\n",
    "drug_base = pickle.load(open(\"../models/inner_lr/lr_drug_9_3.pkl\",\"rb\"))"
   ]
  },
  {
   "cell_type": "code",
   "execution_count": 4,
   "metadata": {},
   "outputs": [],
   "source": [
    "## load trained ensembles\n",
    "ensemble = pickle.load(open(\"../models/outer_lr/lr_9_3.pkl\",\"rb\"))"
   ]
  },
  {
   "cell_type": "code",
   "execution_count": 5,
   "metadata": {},
   "outputs": [],
   "source": [
    "# load all data\n",
    "measure_data = pd.read_csv(\"../eval_features/processed/measure.csv\",index_col=0)\n",
    "obs_data = pd.read_csv(\"../eval_features/processed/obs.csv\",index_col=0)\n",
    "condition_data = pd.read_csv(\"../eval_features/processed/condition.csv\",index_col=0)\n",
    "proc_data = pd.read_csv(\"../eval_features/processed/procedure.csv\",index_col=0)\n",
    "drug_data = pd.read_csv(\"../eval_features/processed/drug.csv\",index_col=0)\n",
    "labels = np.array(measure_data.death)"
   ]
  },
  {
   "cell_type": "code",
   "execution_count": 6,
   "metadata": {},
   "outputs": [],
   "source": [
    "def random_sample_ensemble(i):\n",
    "    random.seed(i)\n",
    "    pos_inds = np.where(labels == 1)[0]\n",
    "    neg_inds = [i for i in range(len(labels)) if i not in pos_inds]\n",
    "    sampled_neg_inds = random.sample(neg_inds, len(pos_inds)*4)\n",
    "    sampled_inds = np.append(pos_inds,sampled_neg_inds)\n",
    "    random.shuffle(sampled_inds)\n",
    "    \n",
    "    ## sample data\n",
    "    sample_labels = labels[sampled_inds]\n",
    "    measure_features = measure_data.iloc[sampled_inds,:].drop(columns=[\"death\"]).values\n",
    "    obs_features = obs_data.iloc[sampled_inds,:].drop(columns=[\"death\"]).values\n",
    "    condition_features = condition_data.iloc[sampled_inds,:].drop(columns=[\"death\"]).values\n",
    "    proc_features = proc_data.iloc[sampled_inds,:].drop(columns=[\"death\"]).values\n",
    "    drug_features = drug_data.iloc[sampled_inds,:].drop(columns=[\"death\"]).values\n",
    "    \n",
    "    ## base predictions\n",
    "    measure_base_preds = measure_base.predict_proba(measure_features)[:,1]\n",
    "    condition_base_preds = condition_base.predict_proba(condition_features)[:,1]\n",
    "    obs_base_preds = obs_base.predict_proba(obs_features)[:,1]\n",
    "    proc_base_preds = proc_base.predict_proba(proc_features)[:,1]\n",
    "    drug_base_preds = drug_base.predict_proba(drug_features)[:,1]\n",
    "    \n",
    "    ## ensemble predictions\n",
    "    base_preds = pd.DataFrame({\"measure\": measure_base_preds, \"drug\": drug_base_preds,\n",
    "                                \"procedure\":proc_base_preds, \"observation\":obs_base_preds, \n",
    "                               \"condition\": condition_base_preds})\n",
    "    base_preds = base_preds[[\"measure\",\"drug\",\"procedure\",\"observation\",\"condition\"]]\n",
    "    ensemble_preds = ensemble.predict_proba(base_preds.values)[:,1]\n",
    "    \n",
    "    pred_df = pd.DataFrame({\"prediction\":ensemble_preds , \"label\": sample_labels})\n",
    "    pred_df.to_csv(\"../results/eval_preds/preds_%d.csv\" %i)\n",
    "    \n",
    "    auc = roc_auc_score(sample_labels,ensemble_preds)\n",
    "    fmax, _ = fmax_score(sample_labels, ensemble_preds)\n",
    "    return pd.DataFrame({\"AUC\":[auc], \"F-Max\": fmax}, index=[i])"
   ]
  },
  {
   "cell_type": "code",
   "execution_count": 8,
   "metadata": {},
   "outputs": [
    {
     "name": "stdout",
     "output_type": "stream",
     "text": [
      "0\n",
      "100\n",
      "200\n",
      "300\n",
      "400\n",
      "500\n",
      "600\n",
      "700\n",
      "800\n",
      "900\n"
     ]
    },
    {
     "data": {
      "text/html": [
       "<div>\n",
       "<style scoped>\n",
       "    .dataframe tbody tr th:only-of-type {\n",
       "        vertical-align: middle;\n",
       "    }\n",
       "\n",
       "    .dataframe tbody tr th {\n",
       "        vertical-align: top;\n",
       "    }\n",
       "\n",
       "    .dataframe thead th {\n",
       "        text-align: right;\n",
       "    }\n",
       "</style>\n",
       "<table border=\"1\" class=\"dataframe\">\n",
       "  <thead>\n",
       "    <tr style=\"text-align: right;\">\n",
       "      <th></th>\n",
       "      <th>AUC</th>\n",
       "      <th>F-Max</th>\n",
       "    </tr>\n",
       "  </thead>\n",
       "  <tbody>\n",
       "    <tr>\n",
       "      <th>0</th>\n",
       "      <td>0.487115</td>\n",
       "      <td>0.333333</td>\n",
       "    </tr>\n",
       "    <tr>\n",
       "      <th>1</th>\n",
       "      <td>0.488715</td>\n",
       "      <td>0.342733</td>\n",
       "    </tr>\n",
       "    <tr>\n",
       "      <th>2</th>\n",
       "      <td>0.507487</td>\n",
       "      <td>0.341253</td>\n",
       "    </tr>\n",
       "    <tr>\n",
       "      <th>3</th>\n",
       "      <td>0.488281</td>\n",
       "      <td>0.335456</td>\n",
       "    </tr>\n",
       "    <tr>\n",
       "      <th>4</th>\n",
       "      <td>0.495795</td>\n",
       "      <td>0.340517</td>\n",
       "    </tr>\n",
       "    <tr>\n",
       "      <th>5</th>\n",
       "      <td>0.495470</td>\n",
       "      <td>0.342733</td>\n",
       "    </tr>\n",
       "    <tr>\n",
       "      <th>6</th>\n",
       "      <td>0.474067</td>\n",
       "      <td>0.336000</td>\n",
       "    </tr>\n",
       "    <tr>\n",
       "      <th>7</th>\n",
       "      <td>0.482015</td>\n",
       "      <td>0.333333</td>\n",
       "    </tr>\n",
       "    <tr>\n",
       "      <th>8</th>\n",
       "      <td>0.506158</td>\n",
       "      <td>0.343478</td>\n",
       "    </tr>\n",
       "    <tr>\n",
       "      <th>9</th>\n",
       "      <td>0.487440</td>\n",
       "      <td>0.336170</td>\n",
       "    </tr>\n",
       "    <tr>\n",
       "      <th>10</th>\n",
       "      <td>0.496067</td>\n",
       "      <td>0.341991</td>\n",
       "    </tr>\n",
       "    <tr>\n",
       "      <th>11</th>\n",
       "      <td>0.474501</td>\n",
       "      <td>0.333333</td>\n",
       "    </tr>\n",
       "    <tr>\n",
       "      <th>12</th>\n",
       "      <td>0.507053</td>\n",
       "      <td>0.344978</td>\n",
       "    </tr>\n",
       "    <tr>\n",
       "      <th>13</th>\n",
       "      <td>0.483670</td>\n",
       "      <td>0.338330</td>\n",
       "    </tr>\n",
       "    <tr>\n",
       "      <th>14</th>\n",
       "      <td>0.477865</td>\n",
       "      <td>0.336673</td>\n",
       "    </tr>\n",
       "    <tr>\n",
       "      <th>15</th>\n",
       "      <td>0.495877</td>\n",
       "      <td>0.342733</td>\n",
       "    </tr>\n",
       "    <tr>\n",
       "      <th>16</th>\n",
       "      <td>0.487467</td>\n",
       "      <td>0.350333</td>\n",
       "    </tr>\n",
       "    <tr>\n",
       "      <th>17</th>\n",
       "      <td>0.495551</td>\n",
       "      <td>0.341253</td>\n",
       "    </tr>\n",
       "    <tr>\n",
       "      <th>18</th>\n",
       "      <td>0.510796</td>\n",
       "      <td>0.347253</td>\n",
       "    </tr>\n",
       "    <tr>\n",
       "      <th>19</th>\n",
       "      <td>0.494683</td>\n",
       "      <td>0.336887</td>\n",
       "    </tr>\n",
       "    <tr>\n",
       "      <th>20</th>\n",
       "      <td>0.500353</td>\n",
       "      <td>0.344978</td>\n",
       "    </tr>\n",
       "    <tr>\n",
       "      <th>21</th>\n",
       "      <td>0.485731</td>\n",
       "      <td>0.339785</td>\n",
       "    </tr>\n",
       "    <tr>\n",
       "      <th>22</th>\n",
       "      <td>0.460422</td>\n",
       "      <td>0.333333</td>\n",
       "    </tr>\n",
       "    <tr>\n",
       "      <th>23</th>\n",
       "      <td>0.470567</td>\n",
       "      <td>0.333333</td>\n",
       "    </tr>\n",
       "    <tr>\n",
       "      <th>24</th>\n",
       "      <td>0.466661</td>\n",
       "      <td>0.333333</td>\n",
       "    </tr>\n",
       "    <tr>\n",
       "      <th>25</th>\n",
       "      <td>0.494439</td>\n",
       "      <td>0.337607</td>\n",
       "    </tr>\n",
       "    <tr>\n",
       "      <th>26</th>\n",
       "      <td>0.487874</td>\n",
       "      <td>0.339056</td>\n",
       "    </tr>\n",
       "    <tr>\n",
       "      <th>27</th>\n",
       "      <td>0.478217</td>\n",
       "      <td>0.338330</td>\n",
       "    </tr>\n",
       "    <tr>\n",
       "      <th>28</th>\n",
       "      <td>0.506266</td>\n",
       "      <td>0.341991</td>\n",
       "    </tr>\n",
       "    <tr>\n",
       "      <th>29</th>\n",
       "      <td>0.471219</td>\n",
       "      <td>0.333333</td>\n",
       "    </tr>\n",
       "    <tr>\n",
       "      <th>...</th>\n",
       "      <td>...</td>\n",
       "      <td>...</td>\n",
       "    </tr>\n",
       "    <tr>\n",
       "      <th>970</th>\n",
       "      <td>0.490885</td>\n",
       "      <td>0.339785</td>\n",
       "    </tr>\n",
       "    <tr>\n",
       "      <th>971</th>\n",
       "      <td>0.470595</td>\n",
       "      <td>0.339056</td>\n",
       "    </tr>\n",
       "    <tr>\n",
       "      <th>972</th>\n",
       "      <td>0.476210</td>\n",
       "      <td>0.334746</td>\n",
       "    </tr>\n",
       "    <tr>\n",
       "      <th>973</th>\n",
       "      <td>0.490696</td>\n",
       "      <td>0.339785</td>\n",
       "    </tr>\n",
       "    <tr>\n",
       "      <th>974</th>\n",
       "      <td>0.485080</td>\n",
       "      <td>0.333333</td>\n",
       "    </tr>\n",
       "    <tr>\n",
       "      <th>975</th>\n",
       "      <td>0.507053</td>\n",
       "      <td>0.344227</td>\n",
       "    </tr>\n",
       "    <tr>\n",
       "      <th>976</th>\n",
       "      <td>0.480143</td>\n",
       "      <td>0.334038</td>\n",
       "    </tr>\n",
       "    <tr>\n",
       "      <th>977</th>\n",
       "      <td>0.492215</td>\n",
       "      <td>0.341253</td>\n",
       "    </tr>\n",
       "    <tr>\n",
       "      <th>978</th>\n",
       "      <td>0.501166</td>\n",
       "      <td>0.340517</td>\n",
       "    </tr>\n",
       "    <tr>\n",
       "      <th>979</th>\n",
       "      <td>0.480984</td>\n",
       "      <td>0.334038</td>\n",
       "    </tr>\n",
       "    <tr>\n",
       "      <th>980</th>\n",
       "      <td>0.493598</td>\n",
       "      <td>0.341991</td>\n",
       "    </tr>\n",
       "    <tr>\n",
       "      <th>981</th>\n",
       "      <td>0.506076</td>\n",
       "      <td>0.344978</td>\n",
       "    </tr>\n",
       "    <tr>\n",
       "      <th>982</th>\n",
       "      <td>0.497206</td>\n",
       "      <td>0.341253</td>\n",
       "    </tr>\n",
       "    <tr>\n",
       "      <th>983</th>\n",
       "      <td>0.469537</td>\n",
       "      <td>0.334038</td>\n",
       "    </tr>\n",
       "    <tr>\n",
       "      <th>984</th>\n",
       "      <td>0.489936</td>\n",
       "      <td>0.336170</td>\n",
       "    </tr>\n",
       "    <tr>\n",
       "      <th>985</th>\n",
       "      <td>0.480659</td>\n",
       "      <td>0.334495</td>\n",
       "    </tr>\n",
       "    <tr>\n",
       "      <th>986</th>\n",
       "      <td>0.485026</td>\n",
       "      <td>0.336887</td>\n",
       "    </tr>\n",
       "    <tr>\n",
       "      <th>987</th>\n",
       "      <td>0.507677</td>\n",
       "      <td>0.344262</td>\n",
       "    </tr>\n",
       "    <tr>\n",
       "      <th>988</th>\n",
       "      <td>0.486192</td>\n",
       "      <td>0.342733</td>\n",
       "    </tr>\n",
       "    <tr>\n",
       "      <th>989</th>\n",
       "      <td>0.462755</td>\n",
       "      <td>0.333333</td>\n",
       "    </tr>\n",
       "    <tr>\n",
       "      <th>990</th>\n",
       "      <td>0.481554</td>\n",
       "      <td>0.336170</td>\n",
       "    </tr>\n",
       "    <tr>\n",
       "      <th>991</th>\n",
       "      <td>0.496039</td>\n",
       "      <td>0.345733</td>\n",
       "    </tr>\n",
       "    <tr>\n",
       "      <th>992</th>\n",
       "      <td>0.463352</td>\n",
       "      <td>0.333913</td>\n",
       "    </tr>\n",
       "    <tr>\n",
       "      <th>993</th>\n",
       "      <td>0.506158</td>\n",
       "      <td>0.341253</td>\n",
       "    </tr>\n",
       "    <tr>\n",
       "      <th>994</th>\n",
       "      <td>0.486844</td>\n",
       "      <td>0.334038</td>\n",
       "    </tr>\n",
       "    <tr>\n",
       "      <th>995</th>\n",
       "      <td>0.527452</td>\n",
       "      <td>0.354260</td>\n",
       "    </tr>\n",
       "    <tr>\n",
       "      <th>996</th>\n",
       "      <td>0.479357</td>\n",
       "      <td>0.333333</td>\n",
       "    </tr>\n",
       "    <tr>\n",
       "      <th>997</th>\n",
       "      <td>0.475288</td>\n",
       "      <td>0.340517</td>\n",
       "    </tr>\n",
       "    <tr>\n",
       "      <th>998</th>\n",
       "      <td>0.474881</td>\n",
       "      <td>0.333913</td>\n",
       "    </tr>\n",
       "    <tr>\n",
       "      <th>999</th>\n",
       "      <td>0.490262</td>\n",
       "      <td>0.335456</td>\n",
       "    </tr>\n",
       "  </tbody>\n",
       "</table>\n",
       "<p>1000 rows × 2 columns</p>\n",
       "</div>"
      ],
      "text/plain": [
       "          AUC     F-Max\n",
       "0    0.487115  0.333333\n",
       "1    0.488715  0.342733\n",
       "2    0.507487  0.341253\n",
       "3    0.488281  0.335456\n",
       "4    0.495795  0.340517\n",
       "5    0.495470  0.342733\n",
       "6    0.474067  0.336000\n",
       "7    0.482015  0.333333\n",
       "8    0.506158  0.343478\n",
       "9    0.487440  0.336170\n",
       "10   0.496067  0.341991\n",
       "11   0.474501  0.333333\n",
       "12   0.507053  0.344978\n",
       "13   0.483670  0.338330\n",
       "14   0.477865  0.336673\n",
       "15   0.495877  0.342733\n",
       "16   0.487467  0.350333\n",
       "17   0.495551  0.341253\n",
       "18   0.510796  0.347253\n",
       "19   0.494683  0.336887\n",
       "20   0.500353  0.344978\n",
       "21   0.485731  0.339785\n",
       "22   0.460422  0.333333\n",
       "23   0.470567  0.333333\n",
       "24   0.466661  0.333333\n",
       "25   0.494439  0.337607\n",
       "26   0.487874  0.339056\n",
       "27   0.478217  0.338330\n",
       "28   0.506266  0.341991\n",
       "29   0.471219  0.333333\n",
       "..        ...       ...\n",
       "970  0.490885  0.339785\n",
       "971  0.470595  0.339056\n",
       "972  0.476210  0.334746\n",
       "973  0.490696  0.339785\n",
       "974  0.485080  0.333333\n",
       "975  0.507053  0.344227\n",
       "976  0.480143  0.334038\n",
       "977  0.492215  0.341253\n",
       "978  0.501166  0.340517\n",
       "979  0.480984  0.334038\n",
       "980  0.493598  0.341991\n",
       "981  0.506076  0.344978\n",
       "982  0.497206  0.341253\n",
       "983  0.469537  0.334038\n",
       "984  0.489936  0.336170\n",
       "985  0.480659  0.334495\n",
       "986  0.485026  0.336887\n",
       "987  0.507677  0.344262\n",
       "988  0.486192  0.342733\n",
       "989  0.462755  0.333333\n",
       "990  0.481554  0.336170\n",
       "991  0.496039  0.345733\n",
       "992  0.463352  0.333913\n",
       "993  0.506158  0.341253\n",
       "994  0.486844  0.334038\n",
       "995  0.527452  0.354260\n",
       "996  0.479357  0.333333\n",
       "997  0.475288  0.340517\n",
       "998  0.474881  0.333913\n",
       "999  0.490262  0.335456\n",
       "\n",
       "[1000 rows x 2 columns]"
      ]
     },
     "execution_count": 8,
     "metadata": {},
     "output_type": "execute_result"
    }
   ],
   "source": [
    "import warnings\n",
    "warnings.filterwarnings('ignore')\n",
    "\n",
    "perf_dfs = []\n",
    "for i in range(1000):\n",
    "    perf_dfs.append(random_sample_ensemble(i))\n",
    "    if i % 100 == 0:\n",
    "        print(i)\n",
    "performance = pd.concat(perf_dfs)\n",
    "performance"
   ]
  },
  {
   "cell_type": "code",
   "execution_count": 31,
   "metadata": {},
   "outputs": [
    {
     "data": {
      "image/png": "[encoded data removed]",
      "text/plain": [
       "<Figure size 864x432 with 2 Axes>"
      ]
     },
     "metadata": {
      "needs_background": "light"
     },
     "output_type": "display_data"
    }
   ],
   "source": [
    "import seaborn as sns\n",
    "f, [ax1, ax2] = plt.subplots(nrows=1,ncols=2, figsize=(12,6))\n",
    "\n",
    "sns.boxplot(data=performance, y=\"AUC\", ax=ax1)\n",
    "sns.boxplot(data=performance, y=\"F-Max\", ax=ax2)\n",
    "\n",
    "ax1.set_ylim(0,1.01)\n",
    "ax2.set_ylim(0,1.01)\n",
    "\n",
    "ax1.set_ylabel(\"AUC\", fontsize=18)\n",
    "ax2.set_ylabel(\"F-Max\", fontsize=18)\n",
    "\n",
    "ax1.tick_params(axis='both', which='major', labelsize=14)\n",
    "ax2.tick_params(axis='both', which='major', labelsize=14)\n",
    "\n",
    "\n",
    "f.tight_layout()\n",
    "\n",
    "plt.savefig(\"../results/ensemble_evaluation.png\")\n",
    "\n",
    "plt.show()\n",
    "plt.close()"
   ]
  },
  {
   "cell_type": "code",
   "execution_count": 57,
   "metadata": {},
   "outputs": [],
   "source": [
    "# pos_inds = np.where(labels == 1)[0]\n",
    "# neg_inds = [i for i in range(len(labels)) if i not in pos_inds]\n",
    "# print(len(pos_inds), len(neg_inds))\n",
    "# import random\n",
    "# random.seed(2018)\n",
    "# sampled_neg_inds = random.sample(neg_inds, 96*4)\n",
    "# print(len(sampled_neg_inds))\n",
    "# sampled_inds = np.append(pos_inds,sampled_neg_inds)\n",
    "# random.shuffle(sampled_inds)\n",
    "# print(sampled_inds)"
   ]
  },
  {
   "cell_type": "code",
   "execution_count": 46,
   "metadata": {},
   "outputs": [],
   "source": [
    "# measure_data = measure_data.iloc[sampled_inds,:]\n",
    "# labels = labels[sampled_inds]\n",
    "# measure_features = measure_data.drop(columns=[\"death\"]).values"
   ]
  },
  {
   "cell_type": "code",
   "execution_count": 47,
   "metadata": {},
   "outputs": [],
   "source": [
    "# measure_base_preds = measure_base.predict_proba(measure_features)[:,1]"
   ]
  },
  {
   "cell_type": "code",
   "execution_count": 48,
   "metadata": {},
   "outputs": [],
   "source": [
    "# # observation base prediction\n",
    "# obs_data = pd.read_csv(\"../eval_features/processed/obs.csv\",index_col=0).iloc[sampled_inds,:]\n",
    "# obs_features = obs_data.drop(columns=[\"death\"]).values\n",
    "# obs_base_preds = obs_base.predict_proba(obs_features)[:,1]"
   ]
  },
  {
   "cell_type": "code",
   "execution_count": 49,
   "metadata": {},
   "outputs": [],
   "source": [
    "# condition base prediction\n",
    "condition_data = pd.read_csv(\"../eval_features/processed/condition.csv\",index_col=0).iloc[sampled_inds,:]\n",
    "condition_features = condition_data.drop(columns=[\"death\"]).values\n",
    "condition_base_preds = condition_base.predict_proba(condition_features)[:,1]"
   ]
  },
  {
   "cell_type": "code",
   "execution_count": 50,
   "metadata": {},
   "outputs": [],
   "source": [
    "# procedure base prediction\n",
    "proc_data = pd.read_csv(\"../eval_features/processed/procedure.csv\",index_col=0).iloc[sampled_inds,:]\n",
    "proc_features = proc_data.drop(columns=[\"death\"]).values\n",
    "proc_base_preds = proc_base.predict_proba(proc_features)[:,1]"
   ]
  },
  {
   "cell_type": "code",
   "execution_count": 51,
   "metadata": {},
   "outputs": [],
   "source": [
    "# drug base prediction\n",
    "drug_data = pd.read_csv(\"../eval_features/processed/drug.csv\",index_col=0).iloc[sampled_inds,:]\n",
    "drug_features = drug_data.drop(columns=[\"death\"]).values\n",
    "drug_base_preds = drug_base.predict_proba(drug_features)[:,1]"
   ]
  },
  {
   "cell_type": "code",
   "execution_count": 52,
   "metadata": {},
   "outputs": [
    {
     "data": {
      "text/plain": [
       "array([0.14064706, 0.43629019, 0.48175147, 0.19625617, 0.11570647,\n",
       "       0.27809594, 0.17903033, 0.14010031, 0.42047871, 0.21411202,\n",
       "       0.22314833, 0.15848669, 0.14312696, 0.11289417, 0.39873323,\n",
       "       0.23123472, 0.199896  , 0.29800465, 0.16375537, 0.14954152,\n",
       "       0.41183344, 0.4080137 , 0.17337913, 0.20244218, 0.11215555,\n",
       "       0.14264937, 0.44925953, 0.40032028, 0.13022403, 0.27751267,\n",
       "       0.19641812, 0.1757448 , 0.39479103, 0.22388998, 0.13948956,\n",
       "       0.30207391, 0.45089588, 0.34975859, 0.31521982, 0.12219879,\n",
       "       0.13255005, 0.43372782, 0.18106623, 0.15435113, 0.17941828,\n",
       "       0.13403839, 0.4492466 , 0.4219412 , 0.16228849, 0.1243708 ,\n",
       "       0.14488659, 0.15610813, 0.18894858, 0.19376044, 0.22304831,\n",
       "       0.40028189, 0.4179603 , 0.17465167, 0.4199756 , 0.12870389,\n",
       "       0.12952399, 0.39999134, 0.26338497, 0.51820179, 0.21274553,\n",
       "       0.13175193, 0.42942546, 0.16585975, 0.21762977, 0.18254328,\n",
       "       0.41846524, 0.17596421, 0.43312424, 0.13807178, 0.20816919,\n",
       "       0.26495107, 0.41631346, 0.49566448, 0.25876639, 0.5000603 ,\n",
       "       0.1620318 , 0.13629984, 0.40952339, 0.46082552, 0.14387034,\n",
       "       0.14093847, 0.17761776, 0.51823803, 0.19303511, 0.27511626,\n",
       "       0.25314091, 0.1473676 , 0.13531709, 0.19913142, 0.13068617,\n",
       "       0.42634141, 0.18634472, 0.15304576, 0.24132586, 0.40346887,\n",
       "       0.141638  , 0.17354905, 0.51006037, 0.48077526, 0.15578064,\n",
       "       0.14253836, 0.16959272, 0.33208335, 0.14877515, 0.18216779,\n",
       "       0.43163912, 0.20527808, 0.42822338, 0.25983363, 0.15159491,\n",
       "       0.48391396, 0.15942644, 0.40724115, 0.43125633, 0.40349487,\n",
       "       0.35472794, 0.15747084, 0.16860032, 0.12552718, 0.18256473,\n",
       "       0.25265796, 0.26414698, 0.14507682, 0.19307715, 0.44016572,\n",
       "       0.15912037, 0.18652456, 0.42723409, 0.26420907, 0.43366024,\n",
       "       0.1299306 , 0.16790608, 0.13739769, 0.28828703, 0.45361741,\n",
       "       0.18659428, 0.13888719, 0.42118405, 0.17295168, 0.26237612,\n",
       "       0.14013423, 0.43128579, 0.38454255, 0.143536  , 0.16226377,\n",
       "       0.1378156 , 0.49411302, 0.29792117, 0.17567024, 0.18621696,\n",
       "       0.14943673, 0.40426429, 0.41616117, 0.16953134, 0.43488547,\n",
       "       0.17249788, 0.17829793, 0.4174186 , 0.16484257, 0.17159902,\n",
       "       0.48810085, 0.3907516 , 0.13109181, 0.43034263, 0.37465285,\n",
       "       0.12322772, 0.16048135, 0.1966173 , 0.18723193, 0.2419641 ,\n",
       "       0.17779311, 0.16159224, 0.1578542 , 0.40953041, 0.21010911,\n",
       "       0.52758469, 0.42404973, 0.28635968, 0.18593864, 0.18734549,\n",
       "       0.43033286, 0.13445412, 0.19601813, 0.52853301, 0.26713162,\n",
       "       0.26973339, 0.39251497, 0.20692891, 0.16644311, 0.14363683,\n",
       "       0.25223403, 0.24028348, 0.1920616 , 0.4010497 , 0.16077521,\n",
       "       0.15722777, 0.1402394 , 0.48403796, 0.42802782, 0.39882051,\n",
       "       0.25699111, 0.43348832, 0.14719045, 0.46525518, 0.16576136,\n",
       "       0.53880995, 0.4018593 , 0.41368567, 0.16978899, 0.37116131,\n",
       "       0.12780381, 0.22490118, 0.17171705, 0.4188187 , 0.16815574,\n",
       "       0.47742206, 0.35616771, 0.1228519 , 0.26222118, 0.20304246,\n",
       "       0.43560529, 0.11959729, 0.19965436, 0.12854899, 0.14450843,\n",
       "       0.22047098, 0.40660361, 0.2402287 , 0.15780665, 0.31934439,\n",
       "       0.2244979 , 0.21552074, 0.31307204, 0.41277724, 0.1387478 ,\n",
       "       0.32097465, 0.18185211, 0.42587391, 0.44109929, 0.42221993,\n",
       "       0.40619473, 0.20895673, 0.17062784, 0.1292321 , 0.14594647,\n",
       "       0.13835086, 0.17555252, 0.11713736, 0.13376561, 0.16047032,\n",
       "       0.13353207, 0.20615762, 0.5123341 , 0.4179336 , 0.55002734,\n",
       "       0.19786096, 0.13486742, 0.18736002, 0.14706442, 0.24962617,\n",
       "       0.45562848, 0.41633333, 0.43147786, 0.12117731, 0.16515551,\n",
       "       0.13658017, 0.45642564, 0.44372144, 0.41628326, 0.13428352,\n",
       "       0.20623826, 0.1454725 , 0.25340992, 0.17323769, 0.19225033,\n",
       "       0.16175075, 0.28499325, 0.14214597, 0.19082257, 0.4307242 ,\n",
       "       0.29623472, 0.20717639, 0.14281159, 0.13122058, 0.15124479,\n",
       "       0.21716328, 0.1995846 , 0.15457201, 0.2049993 , 0.42401808,\n",
       "       0.15091025, 0.25214651, 0.14784444, 0.51178541, 0.47206794,\n",
       "       0.18219012, 0.36353813, 0.12186827, 0.16090369, 0.12970881,\n",
       "       0.31277272, 0.22885762, 0.44601079, 0.23541248, 0.40214649,\n",
       "       0.17305995, 0.17715411, 0.12600184, 0.4200523 , 0.17947731,\n",
       "       0.24159056, 0.17275864, 0.18440862, 0.42792268, 0.20341328,\n",
       "       0.20606155, 0.50594211, 0.53125173, 0.1376147 , 0.25469089,\n",
       "       0.40157082, 0.43088274, 0.17550994, 0.28474367, 0.19697723,\n",
       "       0.4216108 , 0.42558906, 0.12126918, 0.12332725, 0.16142947,\n",
       "       0.51369493, 0.29956174, 0.19619656, 0.43799553, 0.43592389,\n",
       "       0.20244212, 0.15000638, 0.37685144, 0.42787132, 0.2060597 ,\n",
       "       0.43725574, 0.40633006, 0.13636036, 0.24461321, 0.19360614,\n",
       "       0.42258661, 0.43268014, 0.18573934, 0.37512094, 0.15510941,\n",
       "       0.13432146, 0.13200996, 0.40435285, 0.15104495, 0.40240554,\n",
       "       0.19700417, 0.20560027, 0.13687578, 0.17671923, 0.54316065,\n",
       "       0.15945138, 0.49744202, 0.2872554 , 0.4130744 , 0.1648838 ,\n",
       "       0.17364991, 0.12460952, 0.15953764, 0.12678618, 0.13980787,\n",
       "       0.19625261, 0.55538821, 0.48882174, 0.42274263, 0.61747072,\n",
       "       0.40267393, 0.14685013, 0.13945654, 0.12507396, 0.51130123,\n",
       "       0.44565579, 0.19064012, 0.40460243, 0.41488725, 0.13245416,\n",
       "       0.15968385, 0.47198522, 0.14954757, 0.15465816, 0.51742814,\n",
       "       0.13870445, 0.20682668, 0.59285822, 0.16912948, 0.44948283,\n",
       "       0.21309259, 0.19408577, 0.20563144, 0.15076539, 0.41307923,\n",
       "       0.34618882, 0.56180034, 0.39138901, 0.18766269, 0.17586417,\n",
       "       0.5144476 , 0.392885  , 0.37695122, 0.1410604 , 0.20026854,\n",
       "       0.13496273, 0.38439644, 0.25247867, 0.5313501 , 0.23112356,\n",
       "       0.15744007, 0.17515367, 0.49505776, 0.32338908, 0.18138858,\n",
       "       0.44767353, 0.17414934, 0.12915613, 0.13338242, 0.17148523,\n",
       "       0.28137676, 0.15874744, 0.20781293, 0.12719675, 0.50049169,\n",
       "       0.23026024, 0.22814659, 0.21192194, 0.13656243, 0.40396955,\n",
       "       0.1180491 , 0.30301393, 0.19771164, 0.19865653, 0.17011059,\n",
       "       0.12619037, 0.13167177, 0.41543797, 0.39133955, 0.52196479,\n",
       "       0.42857318, 0.27283787, 0.22042099, 0.20636614, 0.14026274,\n",
       "       0.17278655, 0.11471231, 0.17813189, 0.15113176, 0.12244796,\n",
       "       0.14856418, 0.20275945, 0.17607184, 0.47651559, 0.24080451,\n",
       "       0.45566679, 0.42649803, 0.14010272, 0.18265658, 0.13691325,\n",
       "       0.26603723, 0.22137181, 0.11605109, 0.19882952, 0.32800408,\n",
       "       0.44493346, 0.16757928, 0.13792879, 0.17727434, 0.25627805])"
      ]
     },
     "execution_count": 52,
     "metadata": {},
     "output_type": "execute_result"
    }
   ],
   "source": [
    "# ensemble predictions\n",
    "base_preds = pd.DataFrame({\"measure\": measure_base_preds, \"drug\": drug_base_preds,\n",
    "                                \"procedure\":proc_base_preds, \"observation\":obs_base_preds, \n",
    "                               \"condition\": condition_base_preds})\n",
    "base_preds = base_preds[[\"measure\",\"drug\",\"procedure\",\"observation\",\"condition\"]]\n",
    "ensemble_preds = ensemble.predict_proba(base_preds.values)[:,1]\n",
    "ensemble_preds"
   ]
  },
  {
   "cell_type": "code",
   "execution_count": 37,
   "metadata": {},
   "outputs": [
    {
     "data": {
      "text/plain": [
       "True"
      ]
     },
     "execution_count": 37,
     "metadata": {},
     "output_type": "execute_result"
    }
   ],
   "source": [
    "len(ensemble_preds) == len(labels)"
   ]
  },
  {
   "cell_type": "code",
   "execution_count": 53,
   "metadata": {},
   "outputs": [
    {
     "data": {
      "text/plain": [
       "0.5404459635416666"
      ]
     },
     "execution_count": 53,
     "metadata": {},
     "output_type": "execute_result"
    }
   ],
   "source": [
    "roc_auc_score(labels,ensemble_preds)"
   ]
  },
  {
   "cell_type": "code",
   "execution_count": 54,
   "metadata": {},
   "outputs": [
    {
     "name": "stderr",
     "output_type": "stream",
     "text": [
      "/Users/Alex/anaconda2/envs/py3/lib/python3.5/site-packages/ipykernel_launcher.py:5: RuntimeWarning: invalid value encountered in true_divide\n",
      "  \"\"\"\n"
     ]
    }
   ],
   "source": [
    "fmax,perf_df = fmax_score(labels, obs_base_preds,pos_label=1)"
   ]
  },
  {
   "cell_type": "code",
   "execution_count": 55,
   "metadata": {},
   "outputs": [
    {
     "data": {
      "text/plain": [
       "0.34645669291338577"
      ]
     },
     "execution_count": 55,
     "metadata": {},
     "output_type": "execute_result"
    }
   ],
   "source": [
    "fmax"
   ]
  },
  {
   "cell_type": "code",
   "execution_count": 56,
   "metadata": {},
   "outputs": [
    {
     "data": {
      "text/plain": [
       "Text(0.5, 1.0, '2-class Precision-Recall curve')"
      ]
     },
     "execution_count": 56,
     "metadata": {},
     "output_type": "execute_result"
    },
    {
     "data": {
      "image/png": "[encoded data removed]",
      "text/plain": [
       "<Figure size 432x288 with 1 Axes>"
      ]
     },
     "metadata": {
      "needs_background": "light"
     },
     "output_type": "display_data"
    }
   ],
   "source": [
    "from sklearn.metrics import precision_recall_curve\n",
    "import matplotlib.pyplot as plt\n",
    "from inspect import signature\n",
    "\n",
    "precision, recall, _ = precision_recall_curve(labels, ensemble_preds)\n",
    "\n",
    "plt.step(recall, precision, color='b', alpha=0.2,\n",
    "         where='post')\n",
    "plt.fill_between(recall, precision, alpha=0.2, color='b')\n",
    "\n",
    "plt.xlabel('Recall')\n",
    "plt.ylabel('Precision')\n",
    "plt.ylim([0.0, 1.05])\n",
    "plt.xlim([0.0, 1.0])\n",
    "plt.title('2-class Precision-Recall curve')"
   ]
  },
  {
   "cell_type": "code",
   "execution_count": 44,
   "metadata": {},
   "outputs": [
    {
     "data": {
      "text/html": [
       "<div>\n",
       "<style scoped>\n",
       "    .dataframe tbody tr th:only-of-type {\n",
       "        vertical-align: middle;\n",
       "    }\n",
       "\n",
       "    .dataframe tbody tr th {\n",
       "        vertical-align: top;\n",
       "    }\n",
       "\n",
       "    .dataframe thead th {\n",
       "        text-align: right;\n",
       "    }\n",
       "</style>\n",
       "<table border=\"1\" class=\"dataframe\">\n",
       "  <thead>\n",
       "    <tr style=\"text-align: right;\">\n",
       "      <th></th>\n",
       "      <th>f1</th>\n",
       "      <th>precision</th>\n",
       "      <th>recall</th>\n",
       "      <th>threshold</th>\n",
       "    </tr>\n",
       "  </thead>\n",
       "  <tbody>\n",
       "    <tr>\n",
       "      <th>16</th>\n",
       "      <td>0.336918</td>\n",
       "      <td>0.203463</td>\n",
       "      <td>0.979167</td>\n",
       "      <td>0.009163</td>\n",
       "    </tr>\n",
       "  </tbody>\n",
       "</table>\n",
       "</div>"
      ],
      "text/plain": [
       "          f1  precision    recall  threshold\n",
       "16  0.336918   0.203463  0.979167   0.009163"
      ]
     },
     "execution_count": 44,
     "metadata": {},
     "output_type": "execute_result"
    }
   ],
   "source": [
    "perf_df.loc[perf_df.f1==fmax,:]"
   ]
  },
  {
   "cell_type": "code",
   "execution_count": 51,
   "metadata": {},
   "outputs": [
    {
     "data": {
      "text/plain": [
       "(14715, 3)"
      ]
     },
     "execution_count": 51,
     "metadata": {},
     "output_type": "execute_result"
    }
   ],
   "source": [
    "perf_df.shape"
   ]
  },
  {
   "cell_type": "code",
   "execution_count": 74,
   "metadata": {},
   "outputs": [
    {
     "data": {
      "text/plain": [
       "0.00485"
      ]
     },
     "execution_count": 74,
     "metadata": {},
     "output_type": "execute_result"
    }
   ],
   "source": [
    "97/20000"
   ]
  },
  {
   "cell_type": "code",
   "execution_count": null,
   "metadata": {},
   "outputs": [],
   "source": []
  }
 ],
 "metadata": {
  "kernelspec": {
   "display_name": "Python 3",
   "language": "python",
   "name": "python3"
  },
  "language_info": {
   "codemirror_mode": {
    "name": "ipython",
    "version": 3
   },
   "file_extension": ".py",
   "mimetype": "text/x-python",
   "name": "python",
   "nbconvert_exporter": "python",
   "pygments_lexer": "ipython3",
   "version": "3.5.0"
  }
 },
 "nbformat": 4,
 "nbformat_minor": 2
}
